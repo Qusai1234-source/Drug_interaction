{
 "cells": [
  {
   "cell_type": "code",
   "execution_count": 1,
   "metadata": {},
   "outputs": [],
   "source": [
    "import os\n",
    "from dotenv import load_dotenv\n",
    "from langchain_google_genai import ChatGoogleGenerativeAI, GoogleGenerativeAIEmbeddings\n",
    "from langchain_community.document_loaders import PyPDFLoader\n",
    "from langchain_text_splitters import RecursiveCharacterTextSplitter\n",
    "from langchain_community.vectorstores import Chroma\n",
    "from langgraph.graph import START, StateGraph, END\n",
    "from langchain_core.prompts import ChatPromptTemplate\n",
    "from IPython.display import Image,display\n",
    "from typing import Literal, List\n",
    "from typing_extensions import TypedDict\n",
    "from langchain_core.output_parsers import StrOutputParser"
   ]
  },
  {
   "cell_type": "code",
   "execution_count": 2,
   "metadata": {},
   "outputs": [],
   "source": [
    "load_dotenv()\n",
    "GOOGLE_API_KEY=os.getenv(\"GOOGLE_API_KEY\")"
   ]
  },
  {
   "cell_type": "code",
   "execution_count": 3,
   "metadata": {},
   "outputs": [],
   "source": [
    "llm = ChatGoogleGenerativeAI(api_key = GOOGLE_API_KEY, model = \"gemini-1.5-flash\",temperature = 0.1)"
   ]
  },
  {
   "cell_type": "code",
   "execution_count": 4,
   "metadata": {},
   "outputs": [
    {
     "data": {
      "text/plain": [
       "\"I am doing well, thank you for asking!  As a large language model, I don't experience emotions or feelings in the same way humans do, but I'm functioning optimally and ready to assist you. How can I help you today?\""
      ]
     },
     "execution_count": 4,
     "metadata": {},
     "output_type": "execute_result"
    }
   ],
   "source": [
    "llm.invoke(\"how are you\").content"
   ]
  },
  {
   "cell_type": "code",
   "execution_count": 5,
   "metadata": {},
   "outputs": [
    {
     "data": {
      "text/plain": [
       "AIMessage(content=\"Combining warfarin and aspirin increases the risk of bleeding, significantly.  While it's *possible* for a patient to take both medications, it's **only done under strict medical supervision**.  A doctor will carefully weigh the benefits of using both against the increased bleeding risk and will only prescribe this combination if the benefits clearly outweigh the risks.  This is usually only in specific situations where the benefits of both medications are considered crucial.\\n\\nThe dosage of both medications will also be carefully monitored and adjusted as needed.  Regular blood tests to monitor the INR (International Normalized Ratio) – a measure of how well warfarin is thinning the blood – are essential.\\n\\n**In short:  Never start or stop taking either warfarin or aspirin without consulting a doctor.  Taking them together without medical supervision is dangerous.**\", additional_kwargs={}, response_metadata={'prompt_feedback': {'block_reason': 0, 'safety_ratings': []}, 'finish_reason': 'STOP', 'safety_ratings': []}, id='run-a6f6aa84-dd2c-4d6c-a92a-37bf3b698bd8-0', usage_metadata={'input_tokens': 10, 'output_tokens': 165, 'total_tokens': 175, 'input_token_details': {'cache_read': 0}})"
      ]
     },
     "execution_count": 5,
     "metadata": {},
     "output_type": "execute_result"
    }
   ],
   "source": [
    "llm.invoke(\"Can a patient take warfarin and aspirin together?\")"
   ]
  },
  {
   "cell_type": "code",
   "execution_count": 6,
   "metadata": {},
   "outputs": [],
   "source": [
    "loader=PyPDFLoader(r\"C:\\Projects\\Drug_interaction\\Data\\Stockleys_Drug_Interactions.pdf\")\n",
    "data=loader.load()"
   ]
  },
  {
   "cell_type": "code",
   "execution_count": 7,
   "metadata": {},
   "outputs": [],
   "source": [
    "text_splitter = RecursiveCharacterTextSplitter(chunk_size=500, chunk_overlap=5)\n",
    "all_splits = text_splitter.split_documents(data)"
   ]
  },
  {
   "cell_type": "code",
   "execution_count": 8,
   "metadata": {},
   "outputs": [
    {
     "data": {
      "text/plain": [
       "32231"
      ]
     },
     "execution_count": 8,
     "metadata": {},
     "output_type": "execute_result"
    }
   ],
   "source": [
    "len(all_splits)"
   ]
  },
  {
   "cell_type": "code",
   "execution_count": 10,
   "metadata": {},
   "outputs": [],
   "source": [
    "gemini_embedding = GoogleGenerativeAIEmbeddings(google_api_key = GOOGLE_API_KEY, model = \"models/embedding-001\")\n",
    "vectorstore = Chroma.from_documents(documents=all_splits, embedding=gemini_embedding)"
   ]
  },
  {
   "cell_type": "code",
   "execution_count": 11,
   "metadata": {},
   "outputs": [],
   "source": [
    "input=r\"Can a patient take warfarin and aspirin together?\""
   ]
  },
  {
   "cell_type": "code",
   "execution_count": 12,
   "metadata": {},
   "outputs": [
    {
     "name": "stderr",
     "output_type": "stream",
     "text": [
      "C:\\Users\\91630\\AppData\\Local\\Temp\\ipykernel_14180\\3855927234.py:2: LangChainDeprecationWarning: The method `BaseRetriever.get_relevant_documents` was deprecated in langchain-core 0.1.46 and will be removed in 1.0. Use :meth:`~invoke` instead.\n",
      "  docs=retrieval.get_relevant_documents(input)\n"
     ]
    }
   ],
   "source": [
    "retrieval=vectorstore.as_retriever()\n",
    "docs=retrieval.get_relevant_documents(input)"
   ]
  },
  {
   "cell_type": "code",
   "execution_count": 13,
   "metadata": {},
   "outputs": [],
   "source": [
    "class QAState(TypedDict):\n",
    "    question: str\n",
    "    context: str\n",
    "    response: str"
   ]
  },
  {
   "cell_type": "code",
   "execution_count": 14,
   "metadata": {},
   "outputs": [],
   "source": [
    "def start_node(state: QAState):\n",
    "    \"\"\"Starting node that receives the user question.\"\"\"\n",
    "    return {\"question\": state[\"question\"]}"
   ]
  },
  {
   "cell_type": "code",
   "execution_count": 15,
   "metadata": {},
   "outputs": [],
   "source": [
    "def retrieve_docs(state: QAState):\n",
    "    \"\"\"Retrieves relevant documents from the vectorstore.\"\"\"\n",
    "    retrieval = vectorstore.as_retriever()\n",
    "    docs = retrieval.get_relevant_documents(state[\"question\"])\n",
    "    context = \"\\n\".join([doc.page_content for doc in docs]) if docs else \"\"\n",
    "    return {\"question\": state[\"question\"], \"context\": context}"
   ]
  },
  {
   "cell_type": "code",
   "execution_count": 16,
   "metadata": {},
   "outputs": [],
   "source": [
    "def conditional_node(state: QAState):\n",
    "    \"\"\"Decides whether to use context or directly answer.\"\"\"\n",
    "    if state[\"context\"] and len(state[\"context\"]) > 50: \n",
    "        return {\"next\": \"llm_with_context\"} \n",
    "    return {\"next\": \"llm_without_context\"}\n"
   ]
  },
  {
   "cell_type": "code",
   "execution_count": 17,
   "metadata": {},
   "outputs": [],
   "source": [
    "def llm_with_context(state: QAState):\n",
    "    \"\"\"LLM generates an answer using context.\"\"\"\n",
    "    prompt_template = \"\"\"\n",
    "    Use the following information to answer the user's question:\n",
    "    Context: {context}\n",
    "    Question: {question}\n",
    "    \"\"\"\n",
    "    prompt = ChatPromptTemplate.from_messages([\n",
    "        (\"system\", prompt_template),\n",
    "        (\"user\", \"{question}\")\n",
    "    ])\n",
    "    mess = prompt.invoke({\"context\": state[\"context\"], \"question\": state[\"question\"]})\n",
    "    response = llm.invoke(mess)\n",
    "    return {\"response\": response}"
   ]
  },
  {
   "cell_type": "code",
   "execution_count": 18,
   "metadata": {},
   "outputs": [],
   "source": [
    "def llm_without_context(state: QAState):\n",
    "    \"\"\"LLM directly answers without context.\"\"\"\n",
    "    response = llm.invoke(state[\"question\"])\n",
    "    return {\"response\": response}"
   ]
  },
  {
   "cell_type": "code",
   "execution_count": 19,
   "metadata": {},
   "outputs": [],
   "source": [
    "def stop_node(state: QAState):\n",
    "    \"\"\"Stops execution and returns the response.\"\"\"\n",
    "    return state[\"response\"]"
   ]
  },
  {
   "cell_type": "code",
   "execution_count": 20,
   "metadata": {},
   "outputs": [],
   "source": [
    "graph = StateGraph(QAState)\n",
    "graph.add_node(\"start\", start_node)\n",
    "graph.add_node(\"retrieve_docs\", retrieve_docs)\n",
    "graph.add_node(\"conditional\", conditional_node)\n",
    "graph.add_node(\"llm_with_context\", llm_with_context)\n",
    "graph.add_node(\"llm_without_context\", llm_without_context)\n",
    "graph.add_node(\"stop\", stop_node)\n",
    "\n",
    "graph.add_edge(START, \"start\")\n",
    "graph.add_edge(\"start\", \"retrieve_docs\")\n",
    "graph.add_edge(\"retrieve_docs\", \"conditional\")\n",
    "graph.add_conditional_edges(\"conditional\", lambda state: state[\"next\"])\n",
    "graph.add_edge(\"llm_with_context\", \"stop\")\n",
    "graph.add_edge(\"llm_without_context\", \"stop\")\n",
    "graph.add_edge(\"stop\", END)\n",
    "\n",
    "graph = graph.compile()"
   ]
  },
  {
   "cell_type": "code",
   "execution_count": 21,
   "metadata": {},
   "outputs": [
    {
     "data": {
      "image/png": "[encoded data removed]",
      "text/plain": [
       "<IPython.core.display.Image object>"
      ]
     },
     "metadata": {},
     "output_type": "display_data"
    }
   ],
   "source": [
    "display(Image(graph.get_graph().draw_mermaid_png()))"
   ]
  },
  {
   "cell_type": "code",
   "execution_count": 22,
   "metadata": {},
   "outputs": [
    {
     "name": "stdout",
     "output_type": "stream",
     "text": [
      "The combination of warfarin and aspirin increases the risk of gastrointestinal bleeding, with some studies showing a rate ratio as high as 6.48 compared to using either drug alone.  However, this risk is not uniform.  Studies using low-dose aspirin (100mg daily) showed no excess risk of major bleeding.  Furthermore, in certain patient groups (e.g., those with prosthetic heart valves at high risk of thromboembolism), the benefits of concurrent use may outweigh the increased bleeding risk.  In such cases, gastroprotection (e.g., proton pump inhibitors) may be recommended.  The decision to use both medications concurrently should be made by a physician, carefully weighing the individual patient's risks and benefits.\n"
     ]
    }
   ],
   "source": [
    "user_question = r\"Can a patient take warfarin and aspirin together?\"\n",
    "initial_state = {\"question\": user_question, \"context\": \"\", \"response\": \"\"}\n",
    "result = graph.invoke(initial_state)\n",
    "print(result[\"response\"].content)"
   ]
  },
  {
   "cell_type": "code",
   "execution_count": null,
   "metadata": {},
   "outputs": [],
   "source": []
  },
  {
   "cell_type": "code",
   "execution_count": null,
   "metadata": {},
   "outputs": [],
   "source": []
  },
  {
   "cell_type": "code",
   "execution_count": null,
   "metadata": {},
   "outputs": [],
   "source": []
  },
  {
   "cell_type": "code",
   "execution_count": null,
   "metadata": {},
   "outputs": [],
   "source": []
  },
  {
   "cell_type": "code",
   "execution_count": null,
   "metadata": {},
   "outputs": [],
   "source": []
  },
  {
   "cell_type": "code",
   "execution_count": null,
   "metadata": {},
   "outputs": [],
   "source": []
  },
  {
   "cell_type": "code",
   "execution_count": null,
   "metadata": {},
   "outputs": [],
   "source": [
    "---"
   ]
  }
 ],
 "metadata": {
  "kernelspec": {
   "display_name": "Drug",
   "language": "python",
   "name": "python3"
  },
  "language_info": {
   "codemirror_mode": {
    "name": "ipython",
    "version": 3
   },
   "file_extension": ".py",
   "mimetype": "text/x-python",
   "name": "python",
   "nbconvert_exporter": "python",
   "pygments_lexer": "ipython3",
   "version": "3.9.21"
  }
 },
 "nbformat": 4,
 "nbformat_minor": 2
}
